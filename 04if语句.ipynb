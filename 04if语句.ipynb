{
 "cells": [
  {
   "cell_type": "markdown",
   "metadata": {},
   "source": [
    "## 4.1 一个简单的示例\n",
    "假设你有一个汽车 列表，并想将其中每辆汽车的名称打印出来。对于大多数汽车，都应以首字母大写的方式打印其 名称，但对于汽车名'bmw'，应以全大写的方式打印。"
   ]
  },
  {
   "cell_type": "code",
   "execution_count": 1,
   "metadata": {},
   "outputs": [
    {
     "name": "stdout",
     "output_type": "stream",
     "text": [
      "Audi\n",
      "BMW\n",
      "Subaru\n",
      "Toyota\n"
     ]
    }
   ],
   "source": [
    "cars = ['audi', 'bmw', 'subaru', 'toyota'] \n",
    "for car in cars:\n",
    "    if car == 'bmw':\n",
    "        print(car.upper())\n",
    "    else:\n",
    "        print(car.title())"
   ]
  },
  {
   "cell_type": "markdown",
   "metadata": {},
   "source": [
    "## 4.2 条件测试\n",
    "每条if语句的核心都是一个值为True或False的表达式，这种表达式被称为条件测试。Python 根据条件测试的值为True还是False来决定是否执行if语句中的代码。如果条件测试的值为True， Python就执行紧跟在if语句后面的代码；如果为False，Python就忽略这些代码。   \n",
    "### 4.2.1 判断条件所用到的符号\n",
    "+ = ：赋值符号    a=1，将1赋值给a\n",
    "+ == : 等于符号   1==1,1等于1\n",
    "+ != : 不等于符号  2!=1，2不等于1\n",
    "+ \\> : 大于符号    2>1，2大于1\n",
    "+ < : 小于符号    1<2， 1小于2\n",
    "+ \\>= : 大于等于   3>=2, 3大于等于2\n",
    "+ <= : 小于等于   2<=2， 2小于等于2  \n",
    "\n",
    "### 4.2.2 检查多个条件\n",
    "1.用and检查多个条件"
   ]
  },
  {
   "cell_type": "code",
   "execution_count": 3,
   "metadata": {},
   "outputs": [
    {
     "data": {
      "text/plain": [
       "False"
      ]
     },
     "execution_count": 3,
     "metadata": {},
     "output_type": "execute_result"
    }
   ],
   "source": [
    "a = 3\n",
    "b = 5\n",
    "a > 2 and b > 6"
   ]
  },
  {
   "cell_type": "code",
   "execution_count": 4,
   "metadata": {},
   "outputs": [
    {
     "data": {
      "text/plain": [
       "True"
      ]
     },
     "execution_count": 4,
     "metadata": {},
     "output_type": "execute_result"
    }
   ],
   "source": [
    "a > 2 and b > 3"
   ]
  },
  {
   "cell_type": "markdown",
   "metadata": {},
   "source": [
    "2.使用or检查多个条件 "
   ]
  },
  {
   "cell_type": "code",
   "execution_count": 5,
   "metadata": {},
   "outputs": [
    {
     "data": {
      "text/plain": [
       "True"
      ]
     },
     "execution_count": 5,
     "metadata": {},
     "output_type": "execute_result"
    }
   ],
   "source": [
    "a > 2 or b > 6"
   ]
  },
  {
   "cell_type": "code",
   "execution_count": 6,
   "metadata": {},
   "outputs": [
    {
     "data": {
      "text/plain": [
       "False"
      ]
     },
     "execution_count": 6,
     "metadata": {},
     "output_type": "execute_result"
    }
   ],
   "source": [
    "a < 2 or b >6"
   ]
  },
  {
   "cell_type": "markdown",
   "metadata": {},
   "source": [
    "### 4.2.3 检查特定值是否包含在列表中 \n",
    "要判断特定的值是否已包含在列表中，可使用关键字in。"
   ]
  },
  {
   "cell_type": "code",
   "execution_count": 7,
   "metadata": {},
   "outputs": [
    {
     "data": {
      "text/plain": [
       "True"
      ]
     },
     "execution_count": 7,
     "metadata": {},
     "output_type": "execute_result"
    }
   ],
   "source": [
    "requested_toppings = ['mushrooms', 'onions', 'pineapple'] \n",
    "'mushrooms' in requested_toppings "
   ]
  },
  {
   "cell_type": "code",
   "execution_count": 8,
   "metadata": {},
   "outputs": [
    {
     "data": {
      "text/plain": [
       "False"
      ]
     },
     "execution_count": 8,
     "metadata": {},
     "output_type": "execute_result"
    }
   ],
   "source": [
    " 'pepperoni' in requested_toppings "
   ]
  },
  {
   "cell_type": "markdown",
   "metadata": {},
   "source": [
    "### 4.2.4 检查特定值是否不包含在列表中 \n",
    "还有些时候，确定特定的值未包含在列表中很重要；在这种情况下，可使用关键字not in。 "
   ]
  },
  {
   "cell_type": "code",
   "execution_count": 9,
   "metadata": {},
   "outputs": [
    {
     "data": {
      "text/plain": [
       "True"
      ]
     },
     "execution_count": 9,
     "metadata": {},
     "output_type": "execute_result"
    }
   ],
   "source": [
    "'pepperoni' not in requested_toppings "
   ]
  },
  {
   "cell_type": "markdown",
   "metadata": {},
   "source": [
    "## 4.3 if语句\n",
    "### 4.3.1 简单的if语句"
   ]
  },
  {
   "cell_type": "code",
   "execution_count": 10,
   "metadata": {},
   "outputs": [
    {
     "name": "stdout",
     "output_type": "stream",
     "text": [
      "你老了\n"
     ]
    }
   ],
   "source": [
    "age = 19 \n",
    "if age > 18:\n",
    "    print('你老了')"
   ]
  },
  {
   "cell_type": "markdown",
   "metadata": {},
   "source": [
    "Python检查变量age的值是否大于或等于18；答案是肯定的，因此Python执行缩进的print语句  \n",
    "在if语句中，缩进的作用与for循环中相同。如果测试通过了，将执行if语句后面所有缩进 的代码行，否则将忽略它们。 "
   ]
  },
  {
   "cell_type": "markdown",
   "metadata": {},
   "source": [
    "### 4.3.2 if-else 语句 \n",
    "经常需要在条件测试通过了时执行一个操作，并在没有通过时执行另一个操作；在这种情况 下，可使用Python提供的if-else语句。if-else语句块类似于简单的if语句，但其中的else语句 让你能够指定条件测试未通过时要执行的操作。 "
   ]
  },
  {
   "cell_type": "code",
   "execution_count": 11,
   "metadata": {},
   "outputs": [
    {
     "name": "stdout",
     "output_type": "stream",
     "text": [
      "你还年轻\n"
     ]
    }
   ],
   "source": [
    "age = 17\n",
    "if age > 18:\n",
    "    print('你老了')\n",
    "else:\n",
    "    print('你还年轻')"
   ]
  },
  {
   "cell_type": "markdown",
   "metadata": {},
   "source": [
    "if-else结 构非常适合用于要让Python执行两种操作之一的情形。在这种简单的if-else结构中，总是会执行两个操作中的一个。 "
   ]
  },
  {
   "cell_type": "markdown",
   "metadata": {},
   "source": [
    "### 4.3.3 if-elif-else 结构 \n",
    "经常需要检查超过两个的情形，为此可使用Python提供的if-elif-else结构。Python只执行 if-elif-else结构中的一个代码块，它依次检查每个条件测试，直到遇到通过了的条件测试。测 试通过后，Python将执行紧跟在它后面的代码，并跳过余下的测试。  \n",
    "一个例子：\n",
    "+ 年龄5岁以下不收费\n",
    "+ 年龄6-18岁收半价\n",
    "+ 年龄大于18岁的全票"
   ]
  },
  {
   "cell_type": "code",
   "execution_count": 12,
   "metadata": {},
   "outputs": [
    {
     "name": "stdout",
     "output_type": "stream",
     "text": [
      "收半价\n"
     ]
    }
   ],
   "source": [
    "age = 14\n",
    "if age <= 5:\n",
    "    print('免费')\n",
    "elif age <= 18:\n",
    "    print('收半价')\n",
    "else:\n",
    "    print('全票')"
   ]
  },
  {
   "cell_type": "code",
   "execution_count": null,
   "metadata": {},
   "outputs": [],
   "source": []
  }
 ],
 "metadata": {
  "kernelspec": {
   "display_name": "Python 3",
   "language": "python",
   "name": "python3"
  },
  "language_info": {
   "codemirror_mode": {
    "name": "ipython",
    "version": 3
   },
   "file_extension": ".py",
   "mimetype": "text/x-python",
   "name": "python",
   "nbconvert_exporter": "python",
   "pygments_lexer": "ipython3",
   "version": "3.7.0"
  }
 },
 "nbformat": 4,
 "nbformat_minor": 2
}
