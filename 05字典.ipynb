{
 "cells": [
  {
   "cell_type": "markdown",
   "metadata": {},
   "source": [
    "## 5.1 一个简单的字典"
   ]
  },
  {
   "cell_type": "code",
   "execution_count": 1,
   "metadata": {},
   "outputs": [
    {
     "name": "stdout",
     "output_type": "stream",
     "text": [
      "green\n",
      "5\n"
     ]
    }
   ],
   "source": [
    "alien_0 = {'color': 'green', 'points': 5}\n",
    "print(alien_0['color'])\n",
    "print(alien_0['points'])"
   ]
  },
  {
   "cell_type": "markdown",
   "metadata": {},
   "source": [
    "## 5.2 使用字典\n",
    "在Python中，字典是一系列键—值对。每个键都与一个值相关联，你可以使用键来访问与之 相关联的值。与键相关联的值可以是数字、字符串、列表乃至字典。事实上，可将任何Python对 象用作字典中的值。   \n",
    "在Python中，字典用放在花括号{}中的一系列键—值对表示，如前面的示例所示：  \n",
    "\n",
    "`\n",
    "alien_0 = {'color': 'green', 'points': 5} \n",
    "`   \n",
    "\n",
    "键—值对是两个相关联的值。指定键时，Python将返回与之相关联的值。键和值之间用冒号 分隔，而键—值对之间用逗号分隔。在字典中，你想存储多少个键—值对都可以。   \n",
    "简单的字典只有一个键—值对，如下述修改后的字典alien_0所示：   \n",
    "\n",
    "`\n",
    "alien_0 = {'color': 'green'} \n",
    "`    \n",
    "\n",
    "这个字典只存储了一项有关alien_0的信息，具体地说是这个外星人的颜色。在这个字典中， 字符串'color'是一个键，与之相关联的值为'green'。 "
   ]
  },
  {
   "cell_type": "markdown",
   "metadata": {},
   "source": [
    "### 5.2.1 访问字典中的值 \n",
    "要获取与键相关联的值，可依次指定字典名和放在方括号内的键，如下所示： "
   ]
  },
  {
   "cell_type": "code",
   "execution_count": 2,
   "metadata": {},
   "outputs": [
    {
     "name": "stdout",
     "output_type": "stream",
     "text": [
      "green\n"
     ]
    }
   ],
   "source": [
    "alien_0 = {'color': 'green'}\n",
    "print(alien_0['color'])"
   ]
  },
  {
   "cell_type": "markdown",
   "metadata": {},
   "source": [
    "### 5.2.2 添加键—值对 \n",
    "字典是一种动态结构，可随时在其中添加键—值对。要添加键—值对，可依次指定字典名、用 方括号括起的键和相关联的值。 "
   ]
  },
  {
   "cell_type": "code",
   "execution_count": 3,
   "metadata": {},
   "outputs": [
    {
     "name": "stdout",
     "output_type": "stream",
     "text": [
      "{'color': 'green', 'points': 5}\n",
      "{'color': 'green', 'points': 5, 'x_position': 0, 'y_position': 25}\n"
     ]
    }
   ],
   "source": [
    "alien_0 = {'color': 'green', 'points': 5} \n",
    "print(alien_0) \n",
    "alien_0['x_position'] = 0 \n",
    "alien_0['y_position'] = 25 \n",
    "print(alien_0) "
   ]
  },
  {
   "cell_type": "markdown",
   "metadata": {},
   "source": [
    "注意，键—值对的排列顺序与添加顺序不同。Python不关心键—值对的添加顺序， 而只关心键和值之间的关联关系。 "
   ]
  },
  {
   "cell_type": "markdown",
   "metadata": {},
   "source": [
    "### 5.2.3 修改字典中的值 \n",
    "要修改字典中的值，可依次指定字典名、用方括号括起的键以及与该键相关联的新值."
   ]
  },
  {
   "cell_type": "code",
   "execution_count": 4,
   "metadata": {},
   "outputs": [
    {
     "name": "stdout",
     "output_type": "stream",
     "text": [
      "{'color': 'yellow', 'points': 5, 'x_position': 0, 'y_position': 25}\n"
     ]
    }
   ],
   "source": [
    "alien_0['color'] = 'yellow'\n",
    "print(alien_0)"
   ]
  },
  {
   "cell_type": "markdown",
   "metadata": {},
   "source": [
    "我们将与键'color'相关联的值改为'yellow'。输出表明，这个外星人确实从绿色变成了黄色"
   ]
  },
  {
   "cell_type": "markdown",
   "metadata": {},
   "source": [
    "### 5.2.4 删除键—值对 \n",
    "对于字典中不再需要的信息，可使用del语句将相应的键—值对彻底删除。使用del语句时， 必须指定字典名和要删除的键。 "
   ]
  },
  {
   "cell_type": "code",
   "execution_count": 5,
   "metadata": {},
   "outputs": [
    {
     "name": "stdout",
     "output_type": "stream",
     "text": [
      "{'color': 'yellow', 'x_position': 0, 'y_position': 25}\n"
     ]
    }
   ],
   "source": [
    "del alien_0['points']\n",
    "print(alien_0)"
   ]
  },
  {
   "cell_type": "markdown",
   "metadata": {},
   "source": [
    "**注意 删除的键—值对永远消失了。**"
   ]
  },
  {
   "cell_type": "markdown",
   "metadata": {},
   "source": [
    "## 5.3 遍历字典\n",
    "### 5.3.1 遍历所有的键—值对 "
   ]
  },
  {
   "cell_type": "code",
   "execution_count": 6,
   "metadata": {},
   "outputs": [
    {
     "name": "stdout",
     "output_type": "stream",
     "text": [
      "\n",
      "key: username\n",
      "value: efermi\n",
      "\n",
      "key: first\n",
      "value: enrico\n",
      "\n",
      "key: last\n",
      "value: fermi\n"
     ]
    }
   ],
   "source": [
    "user_0 = {     'username': 'efermi',\n",
    "               'first': 'enrico',     \n",
    "               'last': 'fermi',     } \n",
    "for key,value in user_0.items():\n",
    "    print('\\nkey: '+ key)\n",
    "    print('value: ' + value)"
   ]
  },
  {
   "cell_type": "markdown",
   "metadata": {},
   "source": [
    "要编写用于遍历字典的for循环，可声明两个变量，用于存储键—值对中的键和值。 对于这两个变量，可使用任何名称.  \n",
    "for语句的第二部分包含字典名和方法items(),它返回一个键—值对列表。"
   ]
  },
  {
   "cell_type": "markdown",
   "metadata": {},
   "source": [
    "### 5.3.2 遍历字典中的所有键 \n",
    "在不需要使用字典中的值时，方法keys()很有用。"
   ]
  },
  {
   "cell_type": "code",
   "execution_count": 7,
   "metadata": {},
   "outputs": [
    {
     "name": "stdout",
     "output_type": "stream",
     "text": [
      "key:username\n",
      "key:first\n",
      "key:last\n"
     ]
    }
   ],
   "source": [
    "for k in user_0.keys():\n",
    "    print('key:' + k)"
   ]
  },
  {
   "cell_type": "markdown",
   "metadata": {},
   "source": [
    "### 5.3.3 按顺序遍历字典中的所有键 \n",
    "要以特定的顺序返回元素，一种办法是在for循环中对返回的键进行排序。为此，可使用函 数sorted()来获得按特定顺序排列的键列表的副本： "
   ]
  },
  {
   "cell_type": "code",
   "execution_count": 9,
   "metadata": {},
   "outputs": [
    {
     "name": "stdout",
     "output_type": "stream",
     "text": [
      "key: first\n",
      "key: last\n",
      "key: username\n"
     ]
    }
   ],
   "source": [
    "for k in sorted(user_0.keys()):\n",
    "    print('key: ' + k)"
   ]
  },
  {
   "cell_type": "markdown",
   "metadata": {},
   "source": [
    "### 5.3.4 遍历字典中的所有值 \n",
    "如果你感兴趣的主要是字典包含的值，可使用方法values()，它返回一个值列表，而不包含 任何键。"
   ]
  },
  {
   "cell_type": "code",
   "execution_count": 10,
   "metadata": {},
   "outputs": [
    {
     "name": "stdout",
     "output_type": "stream",
     "text": [
      "value: efermi\n",
      "value: enrico\n",
      "value: fermi\n"
     ]
    }
   ],
   "source": [
    "for v in user_0.values():\n",
    "    print('value: '+ v)"
   ]
  },
  {
   "cell_type": "markdown",
   "metadata": {},
   "source": [
    "为剔除重复项，可使用集合（set）。 集合类似于列表，但每个元素都必须是独一无二的： "
   ]
  },
  {
   "cell_type": "code",
   "execution_count": 11,
   "metadata": {},
   "outputs": [
    {
     "name": "stdout",
     "output_type": "stream",
     "text": [
      "1\n",
      "2\n"
     ]
    }
   ],
   "source": [
    "a = {'a':1,\n",
    "      'b':2,\n",
    "      'c':1}\n",
    "for v in set(a.values()):\n",
    "    print(v)"
   ]
  },
  {
   "cell_type": "markdown",
   "metadata": {},
   "source": [
    "## 5.4 嵌套\n",
    "### 5.4.1 字典列表 \n",
    "字典alien_0包含一个外星人的各种信息，但无法存储第二个外星人的信息，更别说屏幕上 全部外星人的信息了。如何管理成群结队的外星人呢？一种办法是创建一个外星人列表，其中每 个外星人都是一个字典，包含有关该外星人的各种信息。例如，下面的代码创建一个包含三个外 星人的列表： "
   ]
  },
  {
   "cell_type": "code",
   "execution_count": 12,
   "metadata": {},
   "outputs": [
    {
     "name": "stdout",
     "output_type": "stream",
     "text": [
      "{'color': 'green', 'points': 5}\n",
      "{'color': 'yellow', 'points': 10}\n",
      "{'color': 'red', 'points': 15}\n"
     ]
    }
   ],
   "source": [
    "alien_0 = {'color': 'green', 'points': 5} \n",
    "alien_1 = {'color': 'yellow', 'points': 10} \n",
    "alien_2 = {'color': 'red', 'points': 15} \n",
    "aliens = [alien_0, alien_1, alien_2] \n",
    "for alien in aliens: \n",
    "    print(alien)"
   ]
  },
  {
   "cell_type": "markdown",
   "metadata": {},
   "source": [
    "### 5.4.2 在字典中存储列表 \n",
    "有时候，需要将列表存储在字典中，而不是将字典存储在列表中。"
   ]
  },
  {
   "cell_type": "code",
   "execution_count": 13,
   "metadata": {},
   "outputs": [
    {
     "name": "stdout",
     "output_type": "stream",
     "text": [
      "You ordered a thick-crust pizza with the following toppings:\n",
      "\tmushrooms\n",
      "\textra cheese\n"
     ]
    }
   ],
   "source": [
    "pizza = {     'crust': 'thick',   \n",
    "               'toppings': ['mushrooms', 'extra cheese'],     } \n",
    "print(\"You ordered a \" + pizza['crust'] + \"-crust pizza \" +     \"with the following toppings:\") \n",
    "for topping in pizza['toppings']:     \n",
    "    print(\"\\t\" + topping) "
   ]
  },
  {
   "cell_type": "markdown",
   "metadata": {},
   "source": [
    "每当需要在字典中将一个键关联到多个值时，都可以在字典中嵌套一个列表。"
   ]
  },
  {
   "cell_type": "markdown",
   "metadata": {},
   "source": [
    "### 5.4.3 在字典中存储字典 \n",
    "可在字典中嵌套字典，但这样做时，代码可能很快复杂起来。"
   ]
  },
  {
   "cell_type": "code",
   "execution_count": 14,
   "metadata": {},
   "outputs": [
    {
     "name": "stdout",
     "output_type": "stream",
     "text": [
      "{0: 'no', 1: {'flippers': {0: 'no', 1: 'yes'}}}\n"
     ]
    }
   ],
   "source": [
    "tree = {'no surfacing': {\n",
    "         0: 'no', 1: {\n",
    "             'flippers': {\n",
    "                 0: 'no', 1: 'yes'}}}}\n",
    "print(tree['no surfacing'])"
   ]
  },
  {
   "cell_type": "code",
   "execution_count": 15,
   "metadata": {},
   "outputs": [
    {
     "name": "stdout",
     "output_type": "stream",
     "text": [
      "no\n"
     ]
    }
   ],
   "source": [
    "print(tree['no surfacing'][0])"
   ]
  },
  {
   "cell_type": "code",
   "execution_count": 16,
   "metadata": {},
   "outputs": [
    {
     "name": "stdout",
     "output_type": "stream",
     "text": [
      "{'flippers': {0: 'no', 1: 'yes'}}\n"
     ]
    }
   ],
   "source": [
    "print(tree['no surfacing'][1])"
   ]
  },
  {
   "cell_type": "code",
   "execution_count": 17,
   "metadata": {},
   "outputs": [
    {
     "name": "stdout",
     "output_type": "stream",
     "text": [
      "{0: 'no', 1: 'yes'}\n"
     ]
    }
   ],
   "source": [
    "print(tree['no surfacing'][1]['flippers'])"
   ]
  },
  {
   "cell_type": "code",
   "execution_count": 18,
   "metadata": {},
   "outputs": [
    {
     "name": "stdout",
     "output_type": "stream",
     "text": [
      "no\n"
     ]
    }
   ],
   "source": [
    "print(tree['no surfacing'][1]['flippers'][0])"
   ]
  },
  {
   "cell_type": "code",
   "execution_count": null,
   "metadata": {},
   "outputs": [],
   "source": []
  }
 ],
 "metadata": {
  "kernelspec": {
   "display_name": "Python 3",
   "language": "python",
   "name": "python3"
  },
  "language_info": {
   "codemirror_mode": {
    "name": "ipython",
    "version": 3
   },
   "file_extension": ".py",
   "mimetype": "text/x-python",
   "name": "python",
   "nbconvert_exporter": "python",
   "pygments_lexer": "ipython3",
   "version": "3.7.0"
  }
 },
 "nbformat": 4,
 "nbformat_minor": 2
}
